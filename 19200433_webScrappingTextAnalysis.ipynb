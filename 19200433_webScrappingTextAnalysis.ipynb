{
 "cells": [
  {
   "cell_type": "code",
   "execution_count": 1,
   "metadata": {},
   "outputs": [],
   "source": [
    "# Data science in Python Assignment 2| 19200433\n",
    "import pandas as pd\n",
    "import bs4\n",
    "from urllib.request import urlopen as uReq\n",
    "from bs4 import BeautifulSoup as soup\n",
    "import re\n",
    "import string\n",
    "from sklearn.feature_extraction.text import TfidfVectorizer\n",
    "from sklearn.model_selection import train_test_split\n",
    "from sklearn.metrics import accuracy_score\n",
    "from sklearn.linear_model import LogisticRegression\n"
   ]
  },
  {
   "cell_type": "code",
   "execution_count": 2,
   "metadata": {},
   "outputs": [],
   "source": [
    "# function to extracts links from the goven link\n",
    "def ExtrctLnks4rmCategry(link):\n",
    "    # requesting data from the link in a package\n",
    "    WebsiteListPackage=uReq(link)\n",
    "    #dumping the data in a variable\n",
    "    WebsiteListHtml=WebsiteListPackage.read()\n",
    "    # closing the request\n",
    "    WebsiteListPackage.close()\n",
    "    # Parsing the html converting into datatype soup\n",
    "    WebsiteListSoup=soup(WebsiteListHtml,'html.parser')\n",
    "    # finding all the anchors in the soup and storing in a variable\n",
    "    WebsiteListId=WebsiteListSoup.findAll('a')\n",
    "    WebsiteLists=[]\n",
    "    # loop to extract each link and concatnate it with prerequsite link string\n",
    "    for a in WebsiteListId:\n",
    "        WebsiteLists.append('http://mlg.ucd.ie/modules/yalp/'+a['href'])\n",
    "    WebsiteLists.pop(0)\n",
    "    return(WebsiteLists)"
   ]
  },
  {
   "cell_type": "code",
   "execution_count": 3,
   "metadata": {},
   "outputs": [],
   "source": [
    "# function to extract review from each website\n",
    "def ExtrctReview(WebsiteLists):\n",
    "    Ratings=[]\n",
    "    ReviewText=[]\n",
    "    for i in WebsiteLists:\n",
    "        WebLink=i\n",
    "        # requesting data from the link in a package\n",
    "        WebLinkPackage=uReq(WebLink)\n",
    "        #dumping the data in a variable\n",
    "        WebLinkHtml=WebLinkPackage.read()\n",
    "        # closing the request\n",
    "        WebLinkPackage.close()\n",
    "        # Parsing the html converting into datatype soup\n",
    "        WebReviewSoup=soup(WebLinkHtml,'html.parser')\n",
    "        # finding all the div's thats have review as their class in the\n",
    "        #         soup and storing in a variable\n",
    "        WebReviews=WebReviewSoup.findAll('div',{'class':'review'})\n",
    "        # loop to store the each rating and text review of a website in lists\n",
    "        for j in WebReviews:\n",
    "            Ratings.append(j.find('p',{'class':'rating'}).find('img')['alt'][:1])\n",
    "#             ReviewText.append(j.text.strip())\n",
    "            ReviewText.append(j.find('p',{'class':'review-text'}).text.strip())\n",
    "    return Ratings, ReviewText; "
   ]
  },
  {
   "cell_type": "code",
   "execution_count": 4,
   "metadata": {},
   "outputs": [],
   "source": [
    "# function to combine both lists along with a column stating the attitude of review\n",
    "def convert2Dataframe(Ratings,ReviewText):\n",
    "    # creating an empty dataframe\n",
    "    Df = pd.DataFrame()\n",
    "    # in the empty dataframe creating column for rating and dumping value from the rating list\n",
    "    Df['Ratings']  = Ratings\n",
    "    # in the empty dataframe creating column for text review and dumping \n",
    "    #     value from the list text review\n",
    "    Df['ReviewText']  = ReviewText\n",
    "    # creating a new coulmn based on the condition of positive and negative\n",
    "    Df['ReviewAttitude'] =['Positive' if (x == '4' or x == '5')  \n",
    "                           else 'Negative' for x in Df['Ratings']]\n",
    "    return Df"
   ]
  },
  {
   "cell_type": "code",
   "execution_count": 5,
   "metadata": {},
   "outputs": [],
   "source": [
    "# for cafe\n",
    "link='http://mlg.ucd.ie/modules/yalp/cafes_list.html'\n",
    "# Storing the links as list in variable\n",
    "cafeLists=ExtrctLnks4rmCategry(link)"
   ]
  },
  {
   "cell_type": "code",
   "execution_count": 6,
   "metadata": {},
   "outputs": [],
   "source": [
    "# storing the ratings and reviews from each link\n",
    "CafeRatings, CafeReviewText = ExtrctReview(cafeLists)"
   ]
  },
  {
   "cell_type": "code",
   "execution_count": 7,
   "metadata": {},
   "outputs": [],
   "source": [
    "# storing both the list as dataframe\n",
    "cafeDf=convert2Dataframe(CafeRatings,CafeReviewText)"
   ]
  },
  {
   "cell_type": "code",
   "execution_count": 12,
   "metadata": {},
   "outputs": [],
   "source": [
    "# for hotel\n",
    "HotelsLink='http://mlg.ucd.ie/modules/yalp/hotels_list.html'\n",
    "# Storing the links as list in variable\n",
    "HoteLists=ExtrctLnks4rmCategry(HotelsLink)"
   ]
  },
  {
   "cell_type": "code",
   "execution_count": 14,
   "metadata": {},
   "outputs": [],
   "source": [
    "# storing the ratings and reviews from each link\n",
    "HotelRatings, HotelReviewText = ExtrctReview(HoteLists)"
   ]
  },
  {
   "cell_type": "code",
   "execution_count": 15,
   "metadata": {},
   "outputs": [],
   "source": [
    "# storing both the list as dataframe\n",
    "HotelDf=convert2Dataframe(HotelRatings,HotelReviewText)"
   ]
  },
  {
   "cell_type": "code",
   "execution_count": 16,
   "metadata": {},
   "outputs": [],
   "source": [
    "# gym\n",
    "GymLink='http://mlg.ucd.ie/modules/yalp/gym_list.html'\n",
    "# Storing the links as list in variable\n",
    "GymLists=ExtrctLnks4rmCategry(GymLink)"
   ]
  },
  {
   "cell_type": "code",
   "execution_count": 17,
   "metadata": {},
   "outputs": [],
   "source": [
    "# Storing the links as list in variable\n",
    "GymRatings, GymReviewText = ExtrctReview(GymLists)"
   ]
  },
  {
   "cell_type": "code",
   "execution_count": 18,
   "metadata": {},
   "outputs": [],
   "source": [
    "# storing both the list as dataframe\n",
    "GymDf=convert2Dataframe(GymRatings,GymReviewText)"
   ]
  },
  {
   "cell_type": "code",
   "execution_count": 19,
   "metadata": {},
   "outputs": [],
   "source": [
    "# function to clean the text\n",
    "def preProcessing1(text):\n",
    "    # Make text lowercase\n",
    "    text = text.lower()\n",
    "    #remove text in square brackets\n",
    "    text = re.sub('\\[.*?\\]', '', text)\n",
    "    #remove punctuation \n",
    "    text = re.sub('[%s]' % re.escape(string.punctuation), '', text)\n",
    "    #remove words containing numbers.          \n",
    "    text = re.sub('\\w*\\d\\w*', '', text)\n",
    "    #additional punctuation\n",
    "    text = re.sub('[‘’“”…]', '', text)\n",
    "    #non-sensical text\n",
    "    text = re.sub('\\n', '', text)\n",
    "    return text\n",
    "\n",
    "cleaning = lambda x: preProcessing1(x)"
   ]
  },
  {
   "cell_type": "code",
   "execution_count": 20,
   "metadata": {},
   "outputs": [],
   "source": [
    "def CleanDataFrame(df):\n",
    "    # applying cleaning function\n",
    "    clean = pd.DataFrame(df.ReviewText.apply(cleaning))\n",
    "    # defining a new coulmn to store ratings\n",
    "    clean['Ratings']=df.iloc[:,0]\n",
    "    # defining a new coulmn to store Review Attitude    \n",
    "    clean['ReviewAttitude']=df.iloc[:,2]\n",
    "    # storing the order of coulmns in a variable     \n",
    "    columns=['Ratings','ReviewAttitude','ReviewText']\n",
    "    # aligning the coulmns as per the redeined order    \n",
    "    clean=clean.reindex(columns=columns)\n",
    "    # returning the processed dataframe\n",
    "    return(clean)\n"
   ]
  },
  {
   "cell_type": "code",
   "execution_count": 21,
   "metadata": {},
   "outputs": [],
   "source": [
    "# storing the cleaned data in a variable\n",
    "cafe_clean=CleanDataFrame(cafeDf)\n",
    "# Gym_clean"
   ]
  },
  {
   "cell_type": "code",
   "execution_count": 22,
   "metadata": {},
   "outputs": [],
   "source": [
    "# storing the cleaned data in a variable\n",
    "Hotel_clean=CleanDataFrame(HotelDf)\n",
    "# Hotel_clean"
   ]
  },
  {
   "cell_type": "code",
   "execution_count": 23,
   "metadata": {},
   "outputs": [],
   "source": [
    "# storing the cleaned data in a variable\n",
    "Gym_clean=CleanDataFrame(GymDf)\n",
    "# Gym_clean"
   ]
  },
  {
   "cell_type": "code",
   "execution_count": 24,
   "metadata": {},
   "outputs": [],
   "source": [
    "# function to vectorise dataset\n",
    "def VectoriseDataFrame(clean):\n",
    "    # Assigning stopwords to  an object     \n",
    "    vectorizer = TfidfVectorizer(stop_words='english')\n",
    "    # transforming the text part of the dataset\n",
    "    vectors = vectorizer.fit_transform(clean['ReviewText'])\n",
    "    # getting each word in a variable as the data is transformed now     \n",
    "    feature_names = vectorizer.get_feature_names()\n",
    "    # converting the data into a matrix  \n",
    "    dense = vectors.todense()\n",
    "    # converting the matrix form to list     \n",
    "    denselist = dense.tolist()\n",
    "    # converting newly formed list into dataframe where each word acts like column\n",
    "    dataset_auto_vectorised = pd.DataFrame(denselist, columns=feature_names)\n",
    "    return(dataset_auto_vectorised)"
   ]
  },
  {
   "cell_type": "code",
   "execution_count": 25,
   "metadata": {},
   "outputs": [],
   "source": [
    "# storing vectorised data into a variable\n",
    "VectorisedCafe=VectoriseDataFrame(cafe_clean)\n",
    "# VectorisedCafe"
   ]
  },
  {
   "cell_type": "code",
   "execution_count": 26,
   "metadata": {},
   "outputs": [],
   "source": [
    "# storing vectorised data into a variable\n",
    "VectorisedHotel=VectoriseDataFrame(Hotel_clean)\n",
    "# VectorisedHotel"
   ]
  },
  {
   "cell_type": "code",
   "execution_count": 27,
   "metadata": {},
   "outputs": [],
   "source": [
    "# storing vectorised data into a variable\n",
    "VectorisedGym=VectoriseDataFrame(Gym_clean)\n",
    "# VectorisedGym"
   ]
  },
  {
   "cell_type": "code",
   "execution_count": 28,
   "metadata": {},
   "outputs": [],
   "source": [
    "log=LogisticRegression()\n",
    "\n",
    "# function to perform logical regression on data \n",
    "def LogisticRegression(vectorised,clean):\n",
    "    # 70% data from dataset is used for training while 30% is used to test the model.     \n",
    "    X_train, X_test, y_train, y_test = train_test_split(vectorised,\n",
    "                                                    clean['ReviewAttitude'],\n",
    "                                                    test_size=0.30)\n",
    "    # training using Logistic Regression on values where X is the words,Y is their attitude\n",
    "    log.fit(X_train,y_train)\n",
    "    # predicting the attitude value for the 30% words\n",
    "    y4_pred = log.predict(X_test)\n",
    "    #  storing the accuracy of the prediction in a variable\n",
    "    acc=accuracy_score(y_test, y4_pred)\n",
    "    return acc"
   ]
  },
  {
   "cell_type": "code",
   "execution_count": 29,
   "metadata": {},
   "outputs": [
    {
     "name": "stderr",
     "output_type": "stream",
     "text": [
      "/opt/anaconda3/lib/python3.7/site-packages/sklearn/linear_model/logistic.py:432: FutureWarning: Default solver will be changed to 'lbfgs' in 0.22. Specify a solver to silence this warning.\n",
      "  FutureWarning)\n"
     ]
    },
    {
     "data": {
      "text/plain": [
       "0.8"
      ]
     },
     "execution_count": 29,
     "metadata": {},
     "output_type": "execute_result"
    }
   ],
   "source": [
    "# accuracy value for cafe\n",
    "cafe_acc=LogisticRegression(VectorisedCafe,cafe_clean)\n",
    "cafe_acc"
   ]
  },
  {
   "cell_type": "code",
   "execution_count": 30,
   "metadata": {},
   "outputs": [
    {
     "name": "stderr",
     "output_type": "stream",
     "text": [
      "/opt/anaconda3/lib/python3.7/site-packages/sklearn/linear_model/logistic.py:432: FutureWarning: Default solver will be changed to 'lbfgs' in 0.22. Specify a solver to silence this warning.\n",
      "  FutureWarning)\n"
     ]
    },
    {
     "data": {
      "text/plain": [
       "0.9"
      ]
     },
     "execution_count": 30,
     "metadata": {},
     "output_type": "execute_result"
    }
   ],
   "source": [
    "# accuracy value for Hotel\n",
    "Hotel_acc=LogisticRegression(VectorisedHotel,Hotel_clean)\n",
    "Hotel_acc"
   ]
  },
  {
   "cell_type": "code",
   "execution_count": 31,
   "metadata": {},
   "outputs": [
    {
     "name": "stderr",
     "output_type": "stream",
     "text": [
      "/opt/anaconda3/lib/python3.7/site-packages/sklearn/linear_model/logistic.py:432: FutureWarning: Default solver will be changed to 'lbfgs' in 0.22. Specify a solver to silence this warning.\n",
      "  FutureWarning)\n"
     ]
    },
    {
     "data": {
      "text/plain": [
       "0.89"
      ]
     },
     "execution_count": 31,
     "metadata": {},
     "output_type": "execute_result"
    }
   ],
   "source": [
    "# accuracy value for Gym\n",
    "Gym_acc=LogisticRegression(VectorisedGym,Gym_clean)\n",
    "Gym_acc"
   ]
  },
  {
   "cell_type": "code",
   "execution_count": 32,
   "metadata": {},
   "outputs": [],
   "source": [
    "# Discussion: all the categories exhibit an accuracy around the range of 80% to 90%.\n",
    "# the regression associates the presence of certain words with corresponding attitude that \n",
    "# was originally in the same row as that of the review text. Acurracy in the range of 80% \n",
    "# demonstrates that there are certain words used repetitvely and seem to have the same \n",
    "# attitude in repetitive use. there is also the possibility that few words are rarely used \n",
    "# and their attitude  may not have been present in the training set but present in test set\n",
    "# thus are incorrectly classified."
   ]
  },
  {
   "cell_type": "code",
   "execution_count": 33,
   "metadata": {},
   "outputs": [],
   "source": [
    "def EvaluatePerformanceOfAOnBnC(CleanA,CleanB,CleanC):\n",
    "    # Assigning stopwords to  an object\n",
    "    vectorizer = TfidfVectorizer(stop_words='english')\n",
    "    # transforming the text part of the dataset\n",
    "    TfidCleanA= vectorizer.fit(CleanA['ReviewText'])\n",
    "    # transforming the text of A using object of A\n",
    "    transCleanA=TfidCleanA.transform(CleanA['ReviewText'])\n",
    "    # transforming the text of B using object of A\n",
    "    transCleanB=TfidCleanA.transform(CleanB['ReviewText'])\n",
    "    # transforming the text of C using object of A\n",
    "    transCleanC=TfidCleanA.transform(CleanC['ReviewText'])\n",
    "    \n",
    "    # getting each word in a variable as the data is transformed now     \n",
    "    CleanAFeatureNames = TfidCleanA.get_feature_names()\n",
    "    # converting the data into a matrix  \n",
    "    CleanADense = transCleanA.todense()\n",
    "    CleanBDense = transCleanB.todense()\n",
    "    CleanCDense = transCleanC.todense()\n",
    "    \n",
    "    # generating a list item\n",
    "    CleanADenselist = CleanADense.tolist()\n",
    "    CleanBDenselist = CleanBDense.tolist()\n",
    "    CleanCDenselist = CleanCDense.tolist()\n",
    "    \n",
    "    # Creating new datasets\n",
    "    CleanADenselistDf = pd.DataFrame(CleanADenselist, columns=CleanAFeatureNames)\n",
    "    CleanBDenselistDf = pd.DataFrame(CleanBDenselist, columns=CleanAFeatureNames)\n",
    "    CleanCDenselistDf = pd.DataFrame(CleanCDenselist, columns=CleanAFeatureNames)\n",
    "    \n",
    "    #datasets that is used for training the model     \n",
    "    Xtrain=CleanADenselistDf\n",
    "    Y_train=CleanA['ReviewAttitude']\n",
    "    \n",
    "    #Training the model on regression     \n",
    "    log.fit(Xtrain,Y_train)\n",
    "    \n",
    "    # data set to be tested\n",
    "    X_testB=CleanBDenselistDf\n",
    "    Y_testB=CleanB['ReviewAttitude']\n",
    "    X_testC=CleanCDenselistDf\n",
    "    Y_testC=CleanC['ReviewAttitude']\n",
    "    \n",
    "    \n",
    "    # predicting value for each scenario    \n",
    "    YB_pred = log.predict(X_testB)\n",
    "    YC_pred = log.predict(X_testC)\n",
    "    \n",
    "    B= accuracy_score(Y_testB, YB_pred)\n",
    "    C= accuracy_score(Y_testC, YC_pred)\n",
    "    \n",
    "    return B,C;\n",
    "    \n",
    "    "
   ]
  },
  {
   "cell_type": "code",
   "execution_count": 34,
   "metadata": {},
   "outputs": [
    {
     "name": "stderr",
     "output_type": "stream",
     "text": [
      "/opt/anaconda3/lib/python3.7/site-packages/sklearn/linear_model/logistic.py:432: FutureWarning: Default solver will be changed to 'lbfgs' in 0.22. Specify a solver to silence this warning.\n",
      "  FutureWarning)\n"
     ]
    }
   ],
   "source": [
    "# accuracy score for hotel and gym based on cafe\n",
    "CafeAccuracy4Hotel,CafeAccuracy4Gym=EvaluatePerformanceOfAOnBnC(cafe_clean,Hotel_clean,Gym_clean)\n"
   ]
  },
  {
   "cell_type": "code",
   "execution_count": 35,
   "metadata": {},
   "outputs": [
    {
     "data": {
      "text/plain": [
       "0.7825"
      ]
     },
     "execution_count": 35,
     "metadata": {},
     "output_type": "execute_result"
    }
   ],
   "source": [
    "# accuracy score for hotel based on cafe\n",
    "CafeAccuracy4Hotel"
   ]
  },
  {
   "cell_type": "code",
   "execution_count": 36,
   "metadata": {},
   "outputs": [
    {
     "data": {
      "text/plain": [
       "0.774"
      ]
     },
     "execution_count": 36,
     "metadata": {},
     "output_type": "execute_result"
    }
   ],
   "source": [
    "# accuracy score for gym based on cafe\n",
    "CafeAccuracy4Gym"
   ]
  },
  {
   "cell_type": "code",
   "execution_count": 37,
   "metadata": {},
   "outputs": [
    {
     "name": "stderr",
     "output_type": "stream",
     "text": [
      "/opt/anaconda3/lib/python3.7/site-packages/sklearn/linear_model/logistic.py:432: FutureWarning: Default solver will be changed to 'lbfgs' in 0.22. Specify a solver to silence this warning.\n",
      "  FutureWarning)\n"
     ]
    }
   ],
   "source": [
    "# accuracy score for cafe and gym based on hotel\n",
    "HotelAccuracy4Cafe,HotelAccuracy4Gym=EvaluatePerformanceOfAOnBnC(Hotel_clean,cafe_clean,\n",
    "                                                                 Gym_clean)\n"
   ]
  },
  {
   "cell_type": "code",
   "execution_count": 38,
   "metadata": {},
   "outputs": [
    {
     "data": {
      "text/plain": [
       "0.8575"
      ]
     },
     "execution_count": 38,
     "metadata": {},
     "output_type": "execute_result"
    }
   ],
   "source": [
    "# accuracy score for cafe based on hotel\n",
    "HotelAccuracy4Cafe"
   ]
  },
  {
   "cell_type": "code",
   "execution_count": 39,
   "metadata": {},
   "outputs": [
    {
     "data": {
      "text/plain": [
       "0.8665"
      ]
     },
     "execution_count": 39,
     "metadata": {},
     "output_type": "execute_result"
    }
   ],
   "source": [
    "# accuracy score for gym based on hotel\n",
    "HotelAccuracy4Gym"
   ]
  },
  {
   "cell_type": "code",
   "execution_count": 40,
   "metadata": {},
   "outputs": [
    {
     "name": "stderr",
     "output_type": "stream",
     "text": [
      "/opt/anaconda3/lib/python3.7/site-packages/sklearn/linear_model/logistic.py:432: FutureWarning: Default solver will be changed to 'lbfgs' in 0.22. Specify a solver to silence this warning.\n",
      "  FutureWarning)\n"
     ]
    }
   ],
   "source": [
    "# accuracy score for  Hotel and cafe based on Gym\n",
    "GymAccuracy4Hotel,GymAccuracy4Cafe=EvaluatePerformanceOfAOnBnC(Gym_clean,Hotel_clean\n",
    "                                                               ,cafe_clean)\n"
   ]
  },
  {
   "cell_type": "code",
   "execution_count": 41,
   "metadata": {},
   "outputs": [
    {
     "data": {
      "text/plain": [
       "0.872"
      ]
     },
     "execution_count": 41,
     "metadata": {},
     "output_type": "execute_result"
    }
   ],
   "source": [
    "# accuracy score for Hotel based on Gym\n",
    "GymAccuracy4Hotel"
   ]
  },
  {
   "cell_type": "code",
   "execution_count": 42,
   "metadata": {},
   "outputs": [
    {
     "data": {
      "text/plain": [
       "0.833"
      ]
     },
     "execution_count": 42,
     "metadata": {},
     "output_type": "execute_result"
    }
   ],
   "source": [
    "# accuracy score for cafe based on Gym\n",
    "GymAccuracy4Cafe"
   ]
  },
  {
   "cell_type": "code",
   "execution_count": null,
   "metadata": {},
   "outputs": [],
   "source": []
  }
 ],
 "metadata": {
  "kernelspec": {
   "display_name": "Python 3",
   "language": "python",
   "name": "python3"
  },
  "language_info": {
   "codemirror_mode": {
    "name": "ipython",
    "version": 3
   },
   "file_extension": ".py",
   "mimetype": "text/x-python",
   "name": "python",
   "nbconvert_exporter": "python",
   "pygments_lexer": "ipython3",
   "version": "3.7.4"
  }
 },
 "nbformat": 4,
 "nbformat_minor": 4
}
